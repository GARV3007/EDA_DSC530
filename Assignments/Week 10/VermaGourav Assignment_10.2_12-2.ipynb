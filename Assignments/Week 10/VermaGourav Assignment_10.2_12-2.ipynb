{
 "cells": [
  {
   "cell_type": "markdown",
   "metadata": {},
   "source": [
    "Name : Gourav Verma<br>\n",
    "Class : DSC530-T302<br>\n",
    "Week 10: Time Series Analysis<br>\n",
    "Assignment : 10.2, 12-2<br>\n",
    "\n",
    "**Write a definition for a class named SerialCorrelationTest that extends HypothesisTest from Section 9.2. It should take a series and a lag as data, compute the serial correlation of the series with the given lag, and then compute the p-value of the observed correlation.\n",
    "Use this class to test whether the serial correlation in raw price data is statistically significant. Also test the residuals of the linear model and (if you did the previous exercise), the quadratic model.**"
   ]
  },
  {
   "cell_type": "code",
   "execution_count": 34,
   "metadata": {},
   "outputs": [],
   "source": [
    "import numpy as np\n",
    "import pandas as pd\n",
    "\n",
    "import statsmodels.formula.api as smf\n",
    "import random\n",
    "import regression\n",
    "\n",
    "import thinkstats2\n",
    "import thinkplot\n",
    "import timeseries"
   ]
  },
  {
   "cell_type": "code",
   "execution_count": 35,
   "metadata": {},
   "outputs": [],
   "source": [
    "class SerialCorrelationTest(thinkstats2.HypothesisTest):\n",
    "    \"\"\"Tests serial correlations by permutation.\"\"\"\n",
    "\n",
    "    def TestStatistic(self, data):\n",
    "        \"\"\"Computes the test statistic.\n",
    "\n",
    "        data: tuple of xs and ys\n",
    "        \"\"\"\n",
    "        series, lag = data\n",
    "        test_stat = abs(thinkstats2.SerialCorr(series, lag))\n",
    "        return test_stat\n",
    "\n",
    "    def RunModel(self):\n",
    "        \"\"\"Run the model of the null hypothesis.\n",
    "\n",
    "        returns: simulated data\n",
    "        \"\"\"\n",
    "        series, lag = self.data\n",
    "        permutation = series.reindex(np.random.permutation(series.index))\n",
    "        return permutation, lag"
   ]
  },
  {
   "cell_type": "code",
   "execution_count": 36,
   "metadata": {},
   "outputs": [],
   "source": [
    "def RunQuadraticModel(daily):\n",
    "    \"\"\"Runs a linear model of prices versus years.\n",
    "\n",
    "    daily: DataFrame of daily prices\n",
    "\n",
    "    returns: model, results\n",
    "    \"\"\"\n",
    "    daily['years2'] = daily.years**2\n",
    "    model = smf.ols('ppg ~ years + years2', data=daily)\n",
    "    results = model.fit()\n",
    "    return model, results"
   ]
  },
  {
   "cell_type": "code",
   "execution_count": 37,
   "metadata": {},
   "outputs": [],
   "source": [
    "def TestSerialCorr(daily):\n",
    "    \"\"\"Tests serial correlations in daily prices and their residuals.\n",
    "\n",
    "    daily: DataFrame of daily prices\n",
    "    \"\"\"\n",
    "    # test the correlation between consecutive prices\n",
    "    series = daily.ppg\n",
    "    test = SerialCorrelationTest((series, 1))\n",
    "    pvalue = test.PValue()\n",
    "    print('correlation between consecutive prices - ','test.actual : ', test.actual, 'pvalue : ', pvalue)\n",
    "\n",
    "    # test for serial correlation in residuals of the linear model\n",
    "    _, results = timeseries.RunLinearModel(daily)\n",
    "    series = results.resid\n",
    "    test = SerialCorrelationTest((series, 1))\n",
    "    pvalue = test.PValue()\n",
    "    print('serial correlation in residuals of the linear model - ', 'test.actual : ', test.actual, 'pvalue : ', pvalue)\n",
    "\n",
    "    # test for serial correlation in residuals of the quadratic model\n",
    "    _, results = RunQuadraticModel(daily)\n",
    "    series = results.resid\n",
    "    test = SerialCorrelationTest((series, 1))\n",
    "    pvalue = test.PValue()\n",
    "    print('serial correlation in residuals of the quadratic model - ', 'test.actual : ', test.actual, 'pvalue : ', pvalue)"
   ]
  },
  {
   "cell_type": "code",
   "execution_count": 38,
   "metadata": {},
   "outputs": [
    {
     "name": "stdout",
     "output_type": "stream",
     "text": [
      "0.485229376194738 0.0\n"
     ]
    }
   ],
   "source": [
    "# Reads data about cannabis transactions\n",
    "transactions = timeseries.ReadData()\n",
    "\n",
    "# map from quality name to DataFrame\n",
    "dailies = timeseries.GroupByQualityAndDay(transactions)\n",
    "\n",
    "# test the correlation between consecutive prices\n",
    "name = 'high'\n",
    "daily = dailies[name]\n",
    "\n",
    "series = daily.ppg\n",
    "test = SerialCorrelationTest((series, 1))\n",
    "pvalue = test.PValue()\n",
    "print(test.actual, pvalue)"
   ]
  },
  {
   "cell_type": "code",
   "execution_count": 39,
   "metadata": {},
   "outputs": [
    {
     "name": "stdout",
     "output_type": "stream",
     "text": [
      "correlation between consecutive prices -  test.actual :  0.485229376194738 pvalue :  0.0\n",
      "serial correlation in residuals of the linear model -  test.actual :  0.07570473767506261 pvalue :  0.012\n",
      "serial correlation in residuals of the quadratic model -  test.actual :  0.05607308161289916 pvalue :  0.048\n"
     ]
    }
   ],
   "source": [
    "# Test defferent correlations\n",
    "TestSerialCorr(daily)"
   ]
  },
  {
   "cell_type": "code",
   "execution_count": null,
   "metadata": {},
   "outputs": [],
   "source": []
  }
 ],
 "metadata": {
  "kernelspec": {
   "display_name": "Python 3",
   "language": "python",
   "name": "python3"
  },
  "language_info": {
   "codemirror_mode": {
    "name": "ipython",
    "version": 3
   },
   "file_extension": ".py",
   "mimetype": "text/x-python",
   "name": "python",
   "nbconvert_exporter": "python",
   "pygments_lexer": "ipython3",
   "version": "3.7.4"
  }
 },
 "nbformat": 4,
 "nbformat_minor": 2
}
