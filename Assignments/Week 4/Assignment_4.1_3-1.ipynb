{
 "cells": [
  {
   "cell_type": "code",
   "execution_count": 7,
   "metadata": {},
   "outputs": [
    {
     "data": {
      "image/png": "[encoded data removed]",
      "text/plain": [
       "<Figure size 432x288 with 1 Axes>"
      ]
     },
     "metadata": {
      "needs_background": "light"
     },
     "output_type": "display_data"
    }
   ],
   "source": [
    "\"\"\"\n",
    "Name : Gourav Verma\n",
    "Class : DSC530-T302\n",
    "Week 4: Probability Mass Functions and Cumulative Distribution Functions\n",
    "Assignment : 4.1, 3-1\n",
    "\"\"\"\n",
    "\n",
    "import numpy as np\n",
    "import nsfg\n",
    "import thinkstats2\n",
    "import thinkplot\n",
    "\n",
    "\"\"\" Read the responded file \"\"\"\n",
    "resp = nsfg.ReadFemResp()\n",
    "\n",
    "def BiasPmf(pmf_act, label):\n",
    "    new_pmf = pmf_act.Copy(label=label)\n",
    "\n",
    "    for i, p in pmf_act.Items():\n",
    "        new_pmf.Mult(i, i)\n",
    "        \n",
    "    new_pmf.Normalize()\n",
    "    return new_pmf\n",
    "\n",
    "\"\"\" Use the NSFG respondent variable NUMKDHH to construct the actual distribution for the \n",
    "number of children under 18 in the household. \"\"\"\n",
    "\"\"\" Calculate PMF for actual distribution \"\"\"\n",
    "\n",
    "pmf_act = thinkstats2.Pmf(resp.numkdhh, label = 'actual')\n",
    "\n",
    "thinkplot.Pmf(pmf_act)\n",
    "thinkplot.Config(xlabel='Number of children', ylabel='PMF')\n"
   ]
  },
  {
   "cell_type": "code",
   "execution_count": 9,
   "metadata": {},
   "outputs": [
    {
     "data": {
      "image/png": "[encoded data removed]",
      "text/plain": [
       "<Figure size 432x288 with 1 Axes>"
      ]
     },
     "metadata": {
      "needs_background": "light"
     },
     "output_type": "display_data"
    }
   ],
   "source": [
    "\"\"\" Now compute the biased distribution we would see if we surveyed the children\n",
    "and asked them how many children under 18 (including themselves) are in their household. \"\"\"\n",
    "\n",
    "pmf_bias = BiasPmf(pmf_act, label = 'biased')\n",
    "\n",
    "thinkplot.PrePlot(2)\n",
    "thinkplot.Pmfs([pmf_act, pmf_bias])\n",
    "thinkplot.Config(xlabel='Number of Childern', ylabel='PMF')"
   ]
  },
  {
   "cell_type": "code",
   "execution_count": 12,
   "metadata": {},
   "outputs": [
    {
     "data": {
      "text/plain": [
       "1.024205155043831"
      ]
     },
     "execution_count": 12,
     "metadata": {},
     "output_type": "execute_result"
    }
   ],
   "source": [
    "\"\"\" Compute Mean \"\"\"\n",
    "pmf_act.Mean()"
   ]
  },
  {
   "cell_type": "code",
   "execution_count": 11,
   "metadata": {},
   "outputs": [
    {
     "data": {
      "text/plain": [
       "2.403679100664282"
      ]
     },
     "execution_count": 11,
     "metadata": {},
     "output_type": "execute_result"
    }
   ],
   "source": [
    "pmf_bias.Mean()"
   ]
  },
  {
   "cell_type": "code",
   "execution_count": null,
   "metadata": {},
   "outputs": [],
   "source": []
  }
 ],
 "metadata": {
  "kernelspec": {
   "display_name": "Python 3",
   "language": "python",
   "name": "python3"
  },
  "language_info": {
   "codemirror_mode": {
    "name": "ipython",
    "version": 3
   },
   "file_extension": ".py",
   "mimetype": "text/x-python",
   "name": "python",
   "nbconvert_exporter": "python",
   "pygments_lexer": "ipython3",
   "version": "3.7.4"
  }
 },
 "nbformat": 4,
 "nbformat_minor": 2
}
