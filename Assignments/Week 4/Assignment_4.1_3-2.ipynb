{
 "cells": [
  {
   "cell_type": "code",
   "execution_count": 1,
   "metadata": {},
   "outputs": [
    {
     "data": {
      "text/plain": [
       "'\\nName : Gourav Verma\\nClass : DSC530-T302\\nWeek 4: Probability Mass Functions and Cumulative Distribution Functions\\nAssignment : 4.1, 3-2\\n'"
      ]
     },
     "execution_count": 1,
     "metadata": {},
     "output_type": "execute_result"
    }
   ],
   "source": [
    "\"\"\"\n",
    "Name : Gourav Verma\n",
    "Class : DSC530-T302\n",
    "Week 4: Probability Mass Functions and Cumulative Distribution Functions\n",
    "Assignment : 4.1, 3-2\n",
    "\"\"\""
   ]
  },
  {
   "cell_type": "code",
   "execution_count": 3,
   "metadata": {},
   "outputs": [
    {
     "name": "stdout",
     "output_type": "stream",
     "text": [
      "Mean through PMF is :  1.024205155043831\n"
     ]
    }
   ],
   "source": [
    "import nsfg\n",
    "import thinkstats2\n",
    "import thinkplot\n",
    "\n",
    "\"\"\" Read the responded file \"\"\"\n",
    "resp = nsfg.ReadFemResp()\n",
    "\n",
    "\"\"\" Calculate PMF for actual distribution \"\"\"\n",
    "pmf_act = thinkstats2.Pmf(resp.numkdhh, label = 'actual')\n",
    "\n",
    "\"\"\" Calculate Mean through PMF \"\"\"\n",
    "sum = 0\n",
    "for key, value in pmf_act.Items():\n",
    "    mult = key*value\n",
    "    sum += mult\n",
    "    \n",
    "print(\"Mean through PMF is : \", sum)"
   ]
  },
  {
   "cell_type": "code",
   "execution_count": null,
   "metadata": {},
   "outputs": [],
   "source": []
  }
 ],
 "metadata": {
  "kernelspec": {
   "display_name": "Python 3",
   "language": "python",
   "name": "python3"
  },
  "language_info": {
   "codemirror_mode": {
    "name": "ipython",
    "version": 3
   },
   "file_extension": ".py",
   "mimetype": "text/x-python",
   "name": "python",
   "nbconvert_exporter": "python",
   "pygments_lexer": "ipython3",
   "version": "3.7.4"
  }
 },
 "nbformat": 4,
 "nbformat_minor": 2
}
