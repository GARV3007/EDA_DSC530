{
 "cells": [
  {
   "cell_type": "code",
   "execution_count": 1,
   "metadata": {},
   "outputs": [
    {
     "data": {
      "text/plain": [
       "'\\nName : Gourav Verma\\nClass : DSC530-T302\\nWeek 4: Probability Mass Functions and Cumulative Distribution Functions\\nAssignment : 4.1, 4-1\\n'"
      ]
     },
     "execution_count": 1,
     "metadata": {},
     "output_type": "execute_result"
    }
   ],
   "source": [
    "\"\"\"\n",
    "Name : Gourav Verma\n",
    "Class : DSC530-T302\n",
    "Week 4: Probability Mass Functions and Cumulative Distribution Functions\n",
    "Assignment : 4.1, 4-1\n",
    "\"\"\""
   ]
  },
  {
   "cell_type": "code",
   "execution_count": 5,
   "metadata": {},
   "outputs": [],
   "source": [
    "import nsfg\n",
    "import thinkstats2\n",
    "import thinkplot\n",
    "\n",
    "\"\"\" Read data from pregnancy data \"\"\"\n",
    "\n",
    "preg = nsfg.ReadFemPreg()\n",
    "\n",
    "live = preg[preg.outcome == 1]\n",
    "firsts = live[live.birthord == 1]\n",
    "others = live[live.birthord != 1]\n",
    "\n",
    "\n",
    "\"\"\" Function for percentile rank \"\"\"\n",
    "def PercentileRank(scores, your_score):\n",
    "    count = 0\n",
    "    for score in scores:\n",
    "        if score <= your_score:\n",
    "            count += 1\n",
    "\n",
    "    percentile_rank = 100.0 * count / len(scores)\n",
    "    return percentile_rank\n",
    "\n",
    "\"\"\" Calculate CDFs for First Born child and Others \"\"\"\n",
    "first_cdf = thinkstats2.Cdf(firsts.totalwgt_lb, label='first')\n",
    "other_cdf = thinkstats2.Cdf(others.totalwgt_lb, label='other')\n"
   ]
  },
  {
   "cell_type": "code",
   "execution_count": 6,
   "metadata": {},
   "outputs": [
    {
     "data": {
      "text/plain": [
       "41.80609672243869"
      ]
     },
     "execution_count": 6,
     "metadata": {},
     "output_type": "execute_result"
    }
   ],
   "source": [
    "\"\"\" If you were a first baby, find your percentile rank in the distribution for first babies. \"\"\"\n",
    "first_cdf.PercentileRank(7.0)"
   ]
  },
  {
   "cell_type": "code",
   "execution_count": null,
   "metadata": {},
   "outputs": [],
   "source": []
  }
 ],
 "metadata": {
  "kernelspec": {
   "display_name": "Python 3",
   "language": "python",
   "name": "python3"
  },
  "language_info": {
   "codemirror_mode": {
    "name": "ipython",
    "version": 3
   },
   "file_extension": ".py",
   "mimetype": "text/x-python",
   "name": "python",
   "nbconvert_exporter": "python",
   "pygments_lexer": "ipython3",
   "version": "3.7.4"
  }
 },
 "nbformat": 4,
 "nbformat_minor": 2
}
