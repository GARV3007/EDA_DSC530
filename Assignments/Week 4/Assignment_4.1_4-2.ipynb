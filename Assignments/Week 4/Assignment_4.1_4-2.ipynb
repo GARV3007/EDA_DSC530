{
 "cells": [
  {
   "cell_type": "code",
   "execution_count": 1,
   "metadata": {},
   "outputs": [
    {
     "data": {
      "text/plain": [
       "'\\nName : Gourav Verma\\nClass : DSC530-T302\\nWeek 4: Probability Mass Functions and Cumulative Distribution Functions\\nAssignment : 4.1, 4-2\\n'"
      ]
     },
     "execution_count": 1,
     "metadata": {},
     "output_type": "execute_result"
    }
   ],
   "source": [
    "\"\"\"\n",
    "Name : Gourav Verma\n",
    "Class : DSC530-T302\n",
    "Week 4: Probability Mass Functions and Cumulative Distribution Functions\n",
    "Assignment : 4.1, 4-2\n",
    "\"\"\""
   ]
  },
  {
   "cell_type": "code",
   "execution_count": 13,
   "metadata": {},
   "outputs": [
    {
     "data": {
      "text/plain": [
       "0.4709021153109423"
      ]
     },
     "execution_count": 13,
     "metadata": {},
     "output_type": "execute_result"
    }
   ],
   "source": [
    "import nsfg\n",
    "import thinkstats2\n",
    "import thinkplot\n",
    "import random\n",
    "import numpy as np"
   ]
  },
  {
   "cell_type": "code",
   "execution_count": 14,
   "metadata": {},
   "outputs": [],
   "source": [
    "\"\"\" Generate list of 1000 numbers between 0 and 1 \"\"\"\n",
    "list = np.random.random(1000, )"
   ]
  },
  {
   "cell_type": "code",
   "execution_count": 18,
   "metadata": {},
   "outputs": [],
   "source": [
    "\"\"\" Generate PMF for the random list \"\"\"\n",
    "pmf = thinkstats2.Pmf(list, label = 'PMF')"
   ]
  },
  {
   "cell_type": "code",
   "execution_count": 19,
   "metadata": {},
   "outputs": [
    {
     "data": {
      "image/png": "[encoded data removed]",
      "text/plain": [
       "<Figure size 432x288 with 1 Axes>"
      ]
     },
     "metadata": {
      "needs_background": "light"
     },
     "output_type": "display_data"
    }
   ],
   "source": [
    "\"\"\" Plot PMF generated in previous step \"\"\"\n",
    "thinkplot.Pmf(pmf)\n",
    "thinkplot.Config(xlabel='Random Numbers', ylabel='PMF')"
   ]
  },
  {
   "cell_type": "code",
   "execution_count": 20,
   "metadata": {},
   "outputs": [],
   "source": [
    "\"\"\" Generate CDF for the random list \"\"\"\n",
    "cdf = thinkstats2.Cdf(list, label='CDF')"
   ]
  },
  {
   "cell_type": "code",
   "execution_count": 23,
   "metadata": {},
   "outputs": [
    {
     "data": {
      "image/png": "[encoded data removed]",
      "text/plain": [
       "<Figure size 432x288 with 1 Axes>"
      ]
     },
     "metadata": {
      "needs_background": "light"
     },
     "output_type": "display_data"
    }
   ],
   "source": [
    "\"\"\" Plot CDF generated in previous step \"\"\"\n",
    "thinkplot.Cdf(cdf)\n",
    "thinkplot.Config(xlabel='Random Numbers', ylabel='CDF')"
   ]
  },
  {
   "cell_type": "code",
   "execution_count": null,
   "metadata": {},
   "outputs": [],
   "source": [
    "From above 2 plots of pmf and cdf, we can clearly see that pmf of all random digits is same, '0.1'. \n",
    "The CDF is approximately a straight line, which means that the distribution is uniform.\n",
    "That outcome might be non-obvious, but it is a consequence of the way the CDF is defined. \n",
    "What this figure shows is that 10% of the sample is below the 10th percentile, 20% is below the 20th percentile, \n",
    "and so on, exactly as we should expect."
   ]
  }
 ],
 "metadata": {
  "kernelspec": {
   "display_name": "Python 3",
   "language": "python",
   "name": "python3"
  },
  "language_info": {
   "codemirror_mode": {
    "name": "ipython",
    "version": 3
   },
   "file_extension": ".py",
   "mimetype": "text/x-python",
   "name": "python",
   "nbconvert_exporter": "python",
   "pygments_lexer": "ipython3",
   "version": "3.7.4"
  }
 },
 "nbformat": 4,
 "nbformat_minor": 2
}
