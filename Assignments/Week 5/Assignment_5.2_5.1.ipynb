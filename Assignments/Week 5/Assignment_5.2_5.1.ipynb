{
 "cells": [
  {
   "cell_type": "code",
   "execution_count": 1,
   "metadata": {},
   "outputs": [
    {
     "data": {
      "text/plain": [
       "'\\nName : Gourav Verma\\nClass : DSC530-T302\\nWeek 5: Modeling Distributions and PDFs\\nAssignment : 5.2, 5-1\\n'"
      ]
     },
     "execution_count": 1,
     "metadata": {},
     "output_type": "execute_result"
    }
   ],
   "source": [
    "\"\"\"\n",
    "Name : Gourav Verma\n",
    "Class : DSC530-T302\n",
    "Week 5: Modeling Distributions and PDFs\n",
    "Assignment : 5.2, 5-1\n",
    "\"\"\"\n",
    "\"\"\"\n",
    "In the BRFSS (see Section 5.4), the distribution of heights is roughly normal with parameters µ = 178 cm and σ = 7.7 cm\n",
    "for men, and µ = 163 cm and σ = 7.3 cm for women.\n",
    "In order to join Blue Man Group, you have to be male between 5’10” and 6’1” (see http://bluemancasting.com). \n",
    "What percentage of the U.S. male population is in this range? Hint: use scipy.stats.norm.cdf.\n",
    "\"\""
   ]
  },
  {
   "cell_type": "code",
   "execution_count": 4,
   "metadata": {},
   "outputs": [],
   "source": [
    "\"\"\" importing libraries \"\"\"\n",
    "import brfss\n",
    "import scipy.stats"
   ]
  },
  {
   "cell_type": "code",
   "execution_count": 19,
   "metadata": {},
   "outputs": [],
   "source": [
    "mu = 178\n",
    "sigma = 7.7\n",
    "\"\"\" normal continuous random variable \"\"\"\n",
    "dist = scipy.stats.norm(loc=mu, scale=sigma)"
   ]
  },
  {
   "cell_type": "code",
   "execution_count": 14,
   "metadata": {},
   "outputs": [
    {
     "name": "stdout",
     "output_type": "stream",
     "text": [
      "Number of people at 5'10 :  0.48963902786483265\n"
     ]
    }
   ],
   "source": [
    "\"\"\" number of people at 5'10\", CDF of dist \"\"\"\n",
    "low = dist.cdf(177.8)\n",
    "print(\"Number of people at 5'10 : \"\"\", low)"
   ]
  },
  {
   "cell_type": "code",
   "execution_count": 13,
   "metadata": {},
   "outputs": [
    {
     "name": "stdout",
     "output_type": "stream",
     "text": [
      "Number of people at 6'1 :  0.8317337108107857\n"
     ]
    }
   ],
   "source": [
    "\"\"\" number of people at 6'10, CDF of dist \"\"\"\n",
    "high = dist.cdf(185.4)\n",
    "print(\"Number of people at 6'1 : \"\"\", high)"
   ]
  },
  {
   "cell_type": "code",
   "execution_count": 16,
   "metadata": {},
   "outputs": [
    {
     "name": "stdout",
     "output_type": "stream",
     "text": [
      "Percentage of people between 5'10 and 6'1 feet is : 0.3420946829459531\n"
     ]
    }
   ],
   "source": [
    "print(\"Percentage of people between 5'10 and 6'1 feet is :\", high-low)"
   ]
  },
  {
   "cell_type": "code",
   "execution_count": null,
   "metadata": {},
   "outputs": [],
   "source": []
  }
 ],
 "metadata": {
  "kernelspec": {
   "display_name": "Python 3",
   "language": "python",
   "name": "python3"
  },
  "language_info": {
   "codemirror_mode": {
    "name": "ipython",
    "version": 3
   },
   "file_extension": ".py",
   "mimetype": "text/x-python",
   "name": "python",
   "nbconvert_exporter": "python",
   "pygments_lexer": "ipython3",
   "version": "3.7.4"
  }
 },
 "nbformat": 4,
 "nbformat_minor": 2
}
