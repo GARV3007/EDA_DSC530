{
 "cells": [
  {
   "cell_type": "code",
   "execution_count": 3,
   "metadata": {},
   "outputs": [
    {
     "data": {
      "text/plain": [
       "'\\nTo get a feel for the Pareto distribution, let’s see how different the world would be if the distribution of human \\nheight were Pareto. With the parameters xm = 1 m and α = 1.7, we get a distribution with a reasonable minimum, 1 m, \\nand median, 1.5 m.\\nPlot this distribution. What is the mean human height in Pareto world? What fraction of the population is shorter \\nthan the mean? If there are 7 billion people in Pareto world, how many do we expect to be taller than 1 km? \\nHow tall do we expect the tallest person to be?\\n'"
      ]
     },
     "execution_count": 3,
     "metadata": {},
     "output_type": "execute_result"
    }
   ],
   "source": [
    "\"\"\"\n",
    "Name : Gourav Verma\n",
    "Class : DSC530-T302\n",
    "Week 5: Modeling Distributions and PDFs\n",
    "Assignment : 5.2, 5-1\n",
    "\"\"\"\n",
    "\"\"\"\n",
    "To get a feel for the Pareto distribution, let’s see how different the world would be if the distribution of human \n",
    "height were Pareto. With the parameters xm = 1 m and α = 1.7, we get a distribution with a reasonable minimum, 1 m, \n",
    "and median, 1.5 m.\n",
    "Plot this distribution. What is the mean human height in Pareto world? What fraction of the population is shorter \n",
    "than the mean? If there are 7 billion people in Pareto world, how many do we expect to be taller than 1 km? \n",
    "How tall do we expect the tallest person to be?\n",
    "\"\"\""
   ]
  },
  {
   "cell_type": "code",
   "execution_count": 13,
   "metadata": {},
   "outputs": [],
   "source": [
    "import scipy.stats\n",
    "import matplotlib.pyplot as plt"
   ]
  },
  {
   "cell_type": "code",
   "execution_count": 14,
   "metadata": {},
   "outputs": [],
   "source": [
    "alpha = 1.7\n",
    "xmin = 1\n",
    "n = 10\n",
    "\"\"\" pareto continuous random variable \"\"\"\n",
    "dist = scipy.stats.pareto(b=alpha, scale=xmin)"
   ]
  },
  {
   "cell_type": "code",
   "execution_count": 17,
   "metadata": {},
   "outputs": [
    {
     "data": {
      "image/png": "[encoded data removed]",
      "text/plain": [
       "<Figure size 432x288 with 1 Axes>"
      ]
     },
     "metadata": {
      "needs_background": "light"
     },
     "output_type": "display_data"
    }
   ],
   "source": [
    "\"\"\" Plot CDFs with xmin = 1 and alpha = 1.7  and event n = 10 \"\"\"\n",
    "values = [value/10.0 for value in range(10, 100)]\n",
    "cprobs = [dist.cdf(value) for value in values]\n",
    "plt.plot(values, cprobs)\n",
    "plt.show()"
   ]
  },
  {
   "cell_type": "code",
   "execution_count": 7,
   "metadata": {},
   "outputs": [
    {
     "name": "stdout",
     "output_type": "stream",
     "text": [
      "mean height in Pareto world is:  2.428571428571429\n"
     ]
    }
   ],
   "source": [
    "print('mean height in Pareto world is: ', dist.mean())"
   ]
  },
  {
   "cell_type": "code",
   "execution_count": 8,
   "metadata": {},
   "outputs": [
    {
     "name": "stdout",
     "output_type": "stream",
     "text": [
      "fraction of peopple shorter than the mean is:  0.778739697565288\n"
     ]
    }
   ],
   "source": [
    "print('fraction of peopple shorter than the mean is: ', dist.cdf(dist.mean()))"
   ]
  },
  {
   "cell_type": "code",
   "execution_count": 9,
   "metadata": {},
   "outputs": [
    {
     "name": "stdout",
     "output_type": "stream",
     "text": [
      "number of people taller than 1 km:  55602.976430479954\n"
     ]
    }
   ],
   "source": [
    "\"\"\" Out of 7 billion people, how many do we expect to be taller than 1 km? \"\"\"\n",
    "print('number of people taller than 1 km: ', (1 - dist.cdf(1000)) * 7e9)"
   ]
  },
  {
   "cell_type": "code",
   "execution_count": 21,
   "metadata": {},
   "outputs": [
    {
     "name": "stdout",
     "output_type": "stream",
     "text": [
      "we expect the tallest person to be(in km):  1.0525455861201714\n"
     ]
    }
   ],
   "source": [
    "print('we expect the tallest person to be(in km): ', dist.sf(600000) * 7e9)"
   ]
  },
  {
   "cell_type": "code",
   "execution_count": null,
   "metadata": {},
   "outputs": [],
   "source": []
  }
 ],
 "metadata": {
  "kernelspec": {
   "display_name": "Python 3",
   "language": "python",
   "name": "python3"
  },
  "language_info": {
   "codemirror_mode": {
    "name": "ipython",
    "version": 3
   },
   "file_extension": ".py",
   "mimetype": "text/x-python",
   "name": "python",
   "nbconvert_exporter": "python",
   "pygments_lexer": "ipython3",
   "version": "3.7.4"
  }
 },
 "nbformat": 4,
 "nbformat_minor": 2
}
