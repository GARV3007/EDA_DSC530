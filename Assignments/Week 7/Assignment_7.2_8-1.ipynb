{
 "cells": [
  {
   "cell_type": "code",
   "execution_count": 12,
   "metadata": {},
   "outputs": [
    {
     "data": {
      "text/plain": [
       "'\\nIn this chapter we used x and median to estimate µ, and found that x yields lower MSE. \\nAlso, we used S2 and Sn−12 to estimate σ, and found that S2 is biased and Sn−12 unbiased.\\n\\nRun similar experiments to see if x and median are biased estimates of µ. \\nAlso check whether S2 or Sn−12 yields a lower MSE.\\n'"
      ]
     },
     "execution_count": 12,
     "metadata": {},
     "output_type": "execute_result"
    }
   ],
   "source": [
    "\"\"\"\n",
    "Name : Gourav Verma\n",
    "Class : DSC530-T302\n",
    "Week 7: Relationships Between Variables and Estimation\n",
    "Assignment : 7.2, 8-1\n",
    "\"\"\"\n",
    "\"\"\"\n",
    "In this chapter we used x and median to estimate µ, and found that x yields lower MSE. \n",
    "Also, we used S2 and Sn−12 to estimate σ, and found that S2 is biased and Sn−12 unbiased.\n",
    "\n",
    "Run similar experiments to see if x and median are biased estimates of µ. \n",
    "Also check whether S2 or Sn−12 yields a lower MSE.\n",
    "\"\"\""
   ]
  },
  {
   "cell_type": "code",
   "execution_count": 13,
   "metadata": {},
   "outputs": [],
   "source": [
    "import numpy as np\n",
    "import random\n",
    "import thinkstats2\n",
    "import thinkplot"
   ]
  },
  {
   "cell_type": "code",
   "execution_count": 15,
   "metadata": {},
   "outputs": [
    {
     "name": "stdout",
     "output_type": "stream",
     "text": [
      "Experiment 1\n",
      "mean error xbar -0.0037106131017475177\n",
      "mean error median -0.0034456875099782643\n"
     ]
    }
   ],
   "source": [
    "# Experiment 1 : xbar and median\n",
    "n=7 \n",
    "iters=100000\n",
    "mu = 0\n",
    "sigma = 1\n",
    "\n",
    "means = []\n",
    "medians = []\n",
    "for _ in range(iters):\n",
    "    xs = [random.gauss(mu, sigma) for i in range(n)]\n",
    "    xbar = np.mean(xs)                  # calculate mean\n",
    "    median = np.median(xs)              # calculate median\n",
    "    means.append(xbar)\n",
    "    medians.append(median)\n",
    "\n",
    "# compute RMSE, root mean squared error, which is the square root of MSE\n",
    "Error1 = [estimate-mu for estimate in means]\n",
    "Error2 = [estimate-mu for estimate in medians]\n",
    "\n",
    "print('Experiment 1')\n",
    "print('mean error xbar', np.mean(Error1))\n",
    "print('mean error median', np.mean(Error2))"
   ]
  },
  {
   "cell_type": "markdown",
   "metadata": {},
   "source": [
    "=> **xbar and median yield lower mean error as m increases, so neither one is obviously biased**"
   ]
  },
  {
   "cell_type": "code",
   "execution_count": 18,
   "metadata": {},
   "outputs": [
    {
     "name": "stdout",
     "output_type": "stream",
     "text": [
      "Experiment 2\n",
      "RMSE biased 0.513373132698304\n",
      "RMSE unbiased 0.5752713397867198\n"
     ]
    }
   ],
   "source": [
    "n=7 \n",
    "iters=100000\n",
    "mu = 0\n",
    "sigma = 1\n",
    "\n",
    "estimates1 = []\n",
    "estimates2 = []\n",
    "\n",
    "for _ in range(iters):\n",
    "    xs = [random.gauss(mu, sigma) for i in range(n)]\n",
    "    biased = np.var(xs)                               # Compute S square\n",
    "    unbiased = np.var(xs, ddof=1)                     # Compute Sn−1 square\n",
    "    estimates1.append(biased)\n",
    "    estimates2.append(unbiased)\n",
    "\n",
    "# mean difference between the estimates and the actual value for estimate1\n",
    "e1 = [(estimate-sigma**2)**2 for estimate in estimates1]  \n",
    "mse1 = np.mean(e1)\n",
    "sq1 = np.sqrt(mse1)\n",
    "\n",
    "# mean difference between the estimates and the actual value for estimate2\n",
    "e2 = [(estimate-sigma**2)**2 for estimate in estimates2]\n",
    "mse2 = np.mean(e2)\n",
    "sq2 = np.sqrt(mse2)\n",
    "\n",
    "print('Experiment 2')\n",
    "print('RMSE biased', sq1)\n",
    "print('RMSE unbiased', sq2)"
   ]
  },
  {
   "cell_type": "markdown",
   "metadata": {},
   "source": [
    "=> **The biased estimator of variance yields lower RMSE than the unbiased estimator, by about 10%.  And the difference holds up as m increases.**"
   ]
  },
  {
   "cell_type": "code",
   "execution_count": null,
   "metadata": {},
   "outputs": [],
   "source": []
  }
 ],
 "metadata": {
  "kernelspec": {
   "display_name": "Python 3",
   "language": "python",
   "name": "python3"
  },
  "language_info": {
   "codemirror_mode": {
    "name": "ipython",
    "version": 3
   },
   "file_extension": ".py",
   "mimetype": "text/x-python",
   "name": "python",
   "nbconvert_exporter": "python",
   "pygments_lexer": "ipython3",
   "version": "3.7.4"
  }
 },
 "nbformat": 4,
 "nbformat_minor": 2
}
